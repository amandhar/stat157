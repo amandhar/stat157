{
 "cells": [
  {
   "cell_type": "markdown",
   "metadata": {
    "slideshow": {
     "slide_type": "slide"
    }
   },
   "source": [
    "# Homework 1 - Berkeley STAT 157\n",
    "\n",
    "Handout 1/22/2017, due 1/29/2017 by 4pm in Git by committing to your repository. Please ensure that you add the TA Git account to your repository.\n",
    "\n",
    "1. Write all code in the notebook.\n",
    "1. Write all text in the notebook. You can use MathJax to insert math or generic Markdown to insert figures (it's unlikely you'll need the latter). \n",
    "1. **Execute** the notebook and **save** the results.\n",
    "1. To be safe, print the notebook as PDF and add it to the repository, too. Your repository should contain two files: ``homework1.ipynb`` and ``homework1.pdf``. \n",
    "\n",
    "The TA will return the corrected and annotated homework back to you via Git (please give `rythei` access to your repository)."
   ]
  },
  {
   "cell_type": "code",
   "execution_count": 1,
   "metadata": {
    "ExecuteTime": {
     "end_time": "2019-01-22T19:57:47.188990Z",
     "start_time": "2019-01-22T19:57:46.107420Z"
    }
   },
   "outputs": [],
   "source": [
    "from mxnet import ndarray as nd"
   ]
  },
  {
   "cell_type": "markdown",
   "metadata": {},
   "source": [
    "## 1. Speedtest for vectorization\n",
    "\n",
    "Your goal is to measure the speed of linear algebra operations for different levels of vectorization. You need to use `wait_to_read()` on the output to ensure that the result is computed completely, since NDArray uses asynchronous computation. Please see http://beta.mxnet.io/api/ndarray/_autogen/mxnet.ndarray.NDArray.wait_to_read.html for details. \n",
    "\n",
    "1. Construct two matrices $A$ and $B$ with Gaussian random entries of size $4096 \\times 4096$. \n",
    "1. Compute $C = A B$ using matrix-matrix operations and report the time. \n",
    "1. Compute $C = A B$, treating $A$ as a matrix but computing the result for each column of $B$ one at a time. Report the time.\n",
    "1. Compute $C = A B$, treating $A$ and $B$ as collections of vectors. Report the time.\n",
    "1. Bonus question - what changes if you execute this on a GPU?"
   ]
  },
  {
   "cell_type": "code",
   "execution_count": null,
   "metadata": {},
   "outputs": [],
   "source": [
    "import time\n",
    "\n",
    "# 1\n",
    "A = nd.random.normal(loc=0, scale=1, shape=[4096, 4096])\n",
    "B = nd.random.normal(loc=0, scale=1, shape=[4096, 4096])\n",
    "\n",
    "# 2\n",
    "# t = time.time()\n",
    "# C = nd.dot(A, B)\n",
    "# C.wait_to_read()\n",
    "# print(time.time() - t)\n",
    "\n",
    "# # 3\n",
    "# t = time.time()\n",
    "# columns = [nd.dot(A, B[:, i]).reshape(4096, 1) for i in range(4096)]\n",
    "# C = nd.concat(*columns, dim=1)\n",
    "# C.wait_to_read()\n",
    "# print(time.time() - t)\n",
    "\n",
    "# 4\n",
    "t = time.time()\n",
    "C = nd.empty(shape=[4096, 4096])\n",
    "for i in range(4096):\n",
    "    for j in range(4096):\n",
    "        C[i, j] = nd.dot(A[i, :], B[:, j])\n",
    "C.wait_to_read()\n",
    "print(time.time() - t)"
   ]
  },
  {
   "cell_type": "markdown",
   "metadata": {},
   "source": [
    "## 2. Semidefinite Matrices\n",
    "\n",
    "Assume that $A \\in \\mathbb{R}^{m \\times n}$ is an arbitrary matrix and that $D \\in \\mathbb{R}^{n \\times n}$ is a diagonal matrix with nonnegative entries. \n",
    "\n",
    "1. Prove that $B = A D A^\\top$ is a positive semidefinite matrix. \n",
    "1. When would it be useful to work with $B$ and when is it better to use $A$ and $D$?"
   ]
  },
  {
   "cell_type": "markdown",
   "metadata": {},
   "source": [
    "1. Let $x$ be a m-dimensional vector, and let $C$ be a diagonal matrix containing the square roots of the diagonal entries in $D$ (so $C^2 = D$). Then $x^TBx = x^TADA^Tx = \\|CA^Tx\\|^2 >= 0$, and this completes the proof that B is positive semidefinite.\n",
    "\n",
    "2. It would be useful to work with A and D if you're doing computations that may require the square root of B. Otherwise, just using B by itself would be faster."
   ]
  },
  {
   "cell_type": "markdown",
   "metadata": {},
   "source": [
    "## 3. MXNet on GPUs\n",
    "\n",
    "1. Install GPU drivers (if needed)\n",
    "1. Install MXNet on a GPU instance\n",
    "1. Display `!nvidia-smi`\n",
    "1. Create a $2 \\times 2$ matrix on the GPU and print it. See http://d2l.ai/chapter_deep-learning-computation/use-gpu.html for details."
   ]
  },
  {
   "cell_type": "code",
   "execution_count": null,
   "metadata": {},
   "outputs": [],
   "source": []
  },
  {
   "cell_type": "markdown",
   "metadata": {},
   "source": [
    "## 4. NDArray and NumPy \n",
    "\n",
    "Your goal is to measure the speed penalty between MXNet Gluon and Python when converting data between both. We are going to do this as follows:\n",
    "\n",
    "1. Create two Gaussian random matrices $A, B$ of size $4096 \\times 4096$ in NDArray. \n",
    "1. Compute a vector $\\mathbf{c} \\in \\mathbb{R}^{4096}$ where $c_i = \\|A B_{i\\cdot}\\|^2$ where $\\mathbf{c}$ is a **NumPy** vector.\n",
    "\n",
    "To see the difference in speed due to Python perform the following two experiments and measure the time:\n",
    "\n",
    "1. Compute $\\|A B_{i\\cdot}\\|^2$ one at a time and assign its outcome to $\\mathbf{c}_i$ directly.\n",
    "1. Use an intermediate storage vector $\\mathbf{d}$ in NDArray for assignments and copy to NumPy at the end."
   ]
  },
  {
   "cell_type": "code",
   "execution_count": 31,
   "metadata": {},
   "outputs": [
    {
     "name": "stdout",
     "output_type": "stream",
     "text": [
      "32.971606731414795\n",
      "38.44051194190979\n"
     ]
    }
   ],
   "source": [
    "import numpy as np\n",
    "A = nd.random.normal(loc=0, scale=1, shape=[4096, 4096])\n",
    "B = nd.random.normal(loc=0, scale=1, shape=[4096, 4096])\n",
    "\n",
    "t = time.time()\n",
    "c = np.zeros(4096)\n",
    "for i in range(4096):\n",
    "    c[i] = nd.norm(nd.dot(A, B[i]), ord=2).asscalar()\n",
    "print(time.time() - t)\n",
    "    \n",
    "t = time.time()\n",
    "d = nd.zeros(4096)\n",
    "for i in range(4096):\n",
    "    d[i] = nd.norm(nd.dot(A, B[i]), ord=2)\n",
    "d = d.asnumpy()\n",
    "print(time.time() - t)"
   ]
  },
  {
   "cell_type": "markdown",
   "metadata": {},
   "source": [
    "## 5. Memory efficient computation\n",
    "\n",
    "We want to compute $C \\leftarrow A \\cdot B + C$, where $A, B$ and $C$ are all matrices. Implement this in the most memory efficient manner. Pay attention to the following two things:\n",
    "\n",
    "1. Do not allocate new memory for the new value of $C$.\n",
    "1. Do not allocate new memory for intermediate results if possible."
   ]
  },
  {
   "cell_type": "code",
   "execution_count": 44,
   "metadata": {},
   "outputs": [
    {
     "data": {
      "text/plain": [
       "\n",
       "[[ -36.82398224   43.56594086   57.57830048 ...,  -87.15515137\n",
       "    -1.04497373  -30.40262985]\n",
       " [  29.85430145   59.5067749    59.79814529 ...,   21.76594734\n",
       "    95.20579529  -42.27321625]\n",
       " [  -7.26595116 -101.27383423   55.39715576 ...,  -74.39221954\n",
       "   102.45467377    8.85462379]\n",
       " ..., \n",
       " [-117.63174438   62.79365158 -113.39180756 ...,  -41.78181458\n",
       "     4.53057957   15.69922924]\n",
       " [  25.4855442    -2.86085081    5.29161549 ...,   74.39033508\n",
       "    -5.14929104  -58.45245361]\n",
       " [-131.14347839  -48.33370972   -0.24792343 ...,  -12.27658749    4.3858757\n",
       "   -29.27905083]]\n",
       "<NDArray 4096x4096 @cpu(0)>"
      ]
     },
     "execution_count": 44,
     "metadata": {},
     "output_type": "execute_result"
    }
   ],
   "source": [
    "nd.elemwise_add(nd.multiply(A, B), C, out=C)"
   ]
  },
  {
   "cell_type": "markdown",
   "metadata": {},
   "source": [
    "## 6. Broadcast Operations\n",
    "\n",
    "In order to perform polynomial fitting we want to compute a design matrix $A$ with \n",
    "\n",
    "$$A_{ij} = x_i^j$$\n",
    "\n",
    "Our goal is to implement this **without a single for loop** entirely using vectorization and broadcast. Here $1 \\leq j \\leq 20$ and $x = \\{-10, -9.9, \\ldots 10\\}$. Implement code that generates such a matrix."
   ]
  },
  {
   "cell_type": "code",
   "execution_count": 41,
   "metadata": {},
   "outputs": [
    {
     "data": {
      "text/plain": [
       "\n",
       "[[ -1.00000000e+01   1.00000000e+02  -1.00000000e+03   1.00000000e+04\n",
       "   -1.00000000e+05   1.00000000e+06  -1.00000000e+07   1.00000000e+08\n",
       "   -1.00000000e+09   1.00000000e+10  -9.99999980e+10   9.99999996e+11\n",
       "   -9.99999983e+12   1.00000000e+14  -9.99999987e+14   1.00000003e+16\n",
       "   -9.99999984e+16   9.99999984e+17  -9.99999998e+18   1.00000002e+20]\n",
       " [ -9.00000000e+00   8.10000000e+01  -7.29000000e+02   6.56100000e+03\n",
       "   -5.90490000e+04   5.31441000e+05  -4.78296900e+06   4.30467200e+07\n",
       "   -3.87420480e+08   3.48678451e+09  -3.13810596e+10   2.82429522e+11\n",
       "   -2.54186593e+12   2.28767931e+13  -2.05891136e+14   1.85302015e+15\n",
       "   -1.66771819e+16   1.50094642e+17  -1.35085174e+18   1.21576651e+19]\n",
       " [ -8.00000000e+00   6.40000000e+01  -5.12000000e+02   4.09600000e+03\n",
       "   -3.27680000e+04   2.62144000e+05  -2.09715200e+06   1.67772160e+07\n",
       "   -1.34217728e+08   1.07374182e+09  -8.58993459e+09   6.87194767e+10\n",
       "   -5.49755814e+11   4.39804651e+12  -3.51843721e+13   2.81474977e+14\n",
       "   -2.25179981e+15   1.80143985e+16  -1.44115188e+17   1.15292150e+18]\n",
       " [ -7.00000000e+00   4.90000000e+01  -3.43000000e+02   2.40100000e+03\n",
       "   -1.68070000e+04   1.17649000e+05  -8.23543000e+05   5.76480100e+06\n",
       "   -4.03536080e+07   2.82475264e+08  -1.97732672e+09   1.38412872e+10\n",
       "   -9.68890122e+10   6.78223086e+11  -4.74756153e+12   3.32329302e+13\n",
       "   -2.32630511e+14   1.62841363e+15  -1.13988947e+16   7.97922632e+16]\n",
       " [ -6.00000000e+00   3.60000000e+01  -2.16000000e+02   1.29600000e+03\n",
       "   -7.77600000e+03   4.66560000e+04  -2.79936000e+05   1.67961600e+06\n",
       "   -1.00776960e+07   6.04661760e+07  -3.62797056e+08   2.17678234e+09\n",
       "   -1.30606940e+10   7.83641641e+10  -4.70184985e+11   2.82110984e+12\n",
       "   -1.69266591e+13   1.01559954e+14  -6.09359759e+14   3.65615856e+15]\n",
       " [ -5.00000000e+00   2.50000000e+01  -1.25000000e+02   6.25000000e+02\n",
       "   -3.12500000e+03   1.56250000e+04  -7.81250000e+04   3.90625000e+05\n",
       "   -1.95312500e+06   9.76562500e+06  -4.88281240e+07   2.44140624e+08\n",
       "   -1.22070310e+09   6.10351565e+09  -3.05175777e+10   1.52587895e+11\n",
       "   -7.62939441e+11   3.81469721e+12  -1.90734863e+13   9.53674336e+13]\n",
       " [ -4.00000000e+00   1.60000000e+01  -6.40000000e+01   2.56000000e+02\n",
       "   -1.02400000e+03   4.09600000e+03  -1.63840000e+04   6.55360000e+04\n",
       "   -2.62144000e+05   1.04857600e+06  -4.19430400e+06   1.67772160e+07\n",
       "   -6.71088640e+07   2.68435456e+08  -1.07374182e+09   4.29496730e+09\n",
       "   -1.71798692e+10   6.87194767e+10  -2.74877907e+11   1.09951163e+12]\n",
       " [ -3.00000000e+00   9.00000000e+00  -2.70000000e+01   8.10000000e+01\n",
       "   -2.43000000e+02   7.29000000e+02  -2.18700000e+03   6.56100000e+03\n",
       "   -1.96830000e+04   5.90490000e+04  -1.77147000e+05   5.31441000e+05\n",
       "   -1.59432300e+06   4.78296900e+06  -1.43489070e+07   4.30467200e+07\n",
       "   -1.29140160e+08   3.87420480e+08  -1.16226150e+09   3.48678451e+09]\n",
       " [ -2.00000000e+00   4.00000000e+00  -8.00000000e+00   1.60000000e+01\n",
       "   -3.20000000e+01   6.40000000e+01  -1.28000000e+02   2.56000000e+02\n",
       "   -5.12000000e+02   1.02400000e+03  -2.04800000e+03   4.09600000e+03\n",
       "   -8.19200000e+03   1.63840000e+04  -3.27680000e+04   6.55360000e+04\n",
       "   -1.31072000e+05   2.62144000e+05  -5.24288000e+05   1.04857600e+06]\n",
       " [ -1.00000000e+00   1.00000000e+00  -1.00000000e+00   1.00000000e+00\n",
       "   -1.00000000e+00   1.00000000e+00  -1.00000000e+00   1.00000000e+00\n",
       "   -1.00000000e+00   1.00000000e+00  -1.00000000e+00   1.00000000e+00\n",
       "   -1.00000000e+00   1.00000000e+00  -1.00000000e+00   1.00000000e+00\n",
       "   -1.00000000e+00   1.00000000e+00  -1.00000000e+00   1.00000000e+00]\n",
       " [  0.00000000e+00   0.00000000e+00   0.00000000e+00   0.00000000e+00\n",
       "    0.00000000e+00   0.00000000e+00   0.00000000e+00   0.00000000e+00\n",
       "    0.00000000e+00   0.00000000e+00   0.00000000e+00   0.00000000e+00\n",
       "    0.00000000e+00   0.00000000e+00   0.00000000e+00   0.00000000e+00\n",
       "    0.00000000e+00   0.00000000e+00   0.00000000e+00   0.00000000e+00]\n",
       " [  1.00000000e+00   1.00000000e+00   1.00000000e+00   1.00000000e+00\n",
       "    1.00000000e+00   1.00000000e+00   1.00000000e+00   1.00000000e+00\n",
       "    1.00000000e+00   1.00000000e+00   1.00000000e+00   1.00000000e+00\n",
       "    1.00000000e+00   1.00000000e+00   1.00000000e+00   1.00000000e+00\n",
       "    1.00000000e+00   1.00000000e+00   1.00000000e+00   1.00000000e+00]\n",
       " [  2.00000000e+00   4.00000000e+00   8.00000000e+00   1.60000000e+01\n",
       "    3.20000000e+01   6.40000000e+01   1.28000000e+02   2.56000000e+02\n",
       "    5.12000000e+02   1.02400000e+03   2.04800000e+03   4.09600000e+03\n",
       "    8.19200000e+03   1.63840000e+04   3.27680000e+04   6.55360000e+04\n",
       "    1.31072000e+05   2.62144000e+05   5.24288000e+05   1.04857600e+06]\n",
       " [  3.00000000e+00   9.00000000e+00   2.70000000e+01   8.10000000e+01\n",
       "    2.43000000e+02   7.29000000e+02   2.18700000e+03   6.56100000e+03\n",
       "    1.96830000e+04   5.90490000e+04   1.77147000e+05   5.31441000e+05\n",
       "    1.59432300e+06   4.78296900e+06   1.43489070e+07   4.30467200e+07\n",
       "    1.29140160e+08   3.87420480e+08   1.16226150e+09   3.48678451e+09]\n",
       " [  4.00000000e+00   1.60000000e+01   6.40000000e+01   2.56000000e+02\n",
       "    1.02400000e+03   4.09600000e+03   1.63840000e+04   6.55360000e+04\n",
       "    2.62144000e+05   1.04857600e+06   4.19430400e+06   1.67772160e+07\n",
       "    6.71088640e+07   2.68435456e+08   1.07374182e+09   4.29496730e+09\n",
       "    1.71798692e+10   6.87194767e+10   2.74877907e+11   1.09951163e+12]\n",
       " [  5.00000000e+00   2.50000000e+01   1.25000000e+02   6.25000000e+02\n",
       "    3.12500000e+03   1.56250000e+04   7.81250000e+04   3.90625000e+05\n",
       "    1.95312500e+06   9.76562500e+06   4.88281240e+07   2.44140624e+08\n",
       "    1.22070310e+09   6.10351565e+09   3.05175777e+10   1.52587895e+11\n",
       "    7.62939441e+11   3.81469721e+12   1.90734863e+13   9.53674336e+13]\n",
       " [  6.00000000e+00   3.60000000e+01   2.16000000e+02   1.29600000e+03\n",
       "    7.77600000e+03   4.66560000e+04   2.79936000e+05   1.67961600e+06\n",
       "    1.00776960e+07   6.04661760e+07   3.62797056e+08   2.17678234e+09\n",
       "    1.30606940e+10   7.83641641e+10   4.70184985e+11   2.82110984e+12\n",
       "    1.69266591e+13   1.01559954e+14   6.09359759e+14   3.65615856e+15]\n",
       " [  7.00000000e+00   4.90000000e+01   3.43000000e+02   2.40100000e+03\n",
       "    1.68070000e+04   1.17649000e+05   8.23543000e+05   5.76480100e+06\n",
       "    4.03536080e+07   2.82475264e+08   1.97732672e+09   1.38412872e+10\n",
       "    9.68890122e+10   6.78223086e+11   4.74756153e+12   3.32329302e+13\n",
       "    2.32630511e+14   1.62841363e+15   1.13988947e+16   7.97922632e+16]\n",
       " [  8.00000000e+00   6.40000000e+01   5.12000000e+02   4.09600000e+03\n",
       "    3.27680000e+04   2.62144000e+05   2.09715200e+06   1.67772160e+07\n",
       "    1.34217728e+08   1.07374182e+09   8.58993459e+09   6.87194767e+10\n",
       "    5.49755814e+11   4.39804651e+12   3.51843721e+13   2.81474977e+14\n",
       "    2.25179981e+15   1.80143985e+16   1.44115188e+17   1.15292150e+18]\n",
       " [  9.00000000e+00   8.10000000e+01   7.29000000e+02   6.56100000e+03\n",
       "    5.90490000e+04   5.31441000e+05   4.78296900e+06   4.30467200e+07\n",
       "    3.87420480e+08   3.48678451e+09   3.13810596e+10   2.82429522e+11\n",
       "    2.54186593e+12   2.28767931e+13   2.05891136e+14   1.85302015e+15\n",
       "    1.66771819e+16   1.50094642e+17   1.35085174e+18   1.21576651e+19]\n",
       " [  1.00000000e+01   1.00000000e+02   1.00000000e+03   1.00000000e+04\n",
       "    1.00000000e+05   1.00000000e+06   1.00000000e+07   1.00000000e+08\n",
       "    1.00000000e+09   1.00000000e+10   9.99999980e+10   9.99999996e+11\n",
       "    9.99999983e+12   1.00000000e+14   9.99999987e+14   1.00000003e+16\n",
       "    9.99999984e+16   9.99999984e+17   9.99999998e+18   1.00000002e+20]]\n",
       "<NDArray 21x20 @cpu(0)>"
      ]
     },
     "execution_count": 41,
     "metadata": {},
     "output_type": "execute_result"
    }
   ],
   "source": [
    "x = nd.arange(-10, 11).reshape(21, 1)\n",
    "js = nd.arange(1, 21)\n",
    "A = nd.power(x, js)\n",
    "A"
   ]
  }
 ],
 "metadata": {
  "kernelspec": {
   "display_name": "Python 3",
   "language": "python",
   "name": "python3"
  },
  "language_info": {
   "codemirror_mode": {
    "name": "ipython",
    "version": 3
   },
   "file_extension": ".py",
   "mimetype": "text/x-python",
   "name": "python",
   "nbconvert_exporter": "python",
   "pygments_lexer": "ipython3",
   "version": "3.6.8"
  }
 },
 "nbformat": 4,
 "nbformat_minor": 2
}
