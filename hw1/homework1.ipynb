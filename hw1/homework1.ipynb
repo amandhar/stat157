{
 "cells": [
  {
   "cell_type": "markdown",
   "metadata": {
    "slideshow": {
     "slide_type": "slide"
    }
   },
   "source": [
    "# Homework 1 - Berkeley STAT 157\n",
    "\n",
    "Handout 1/22/2017, due 1/29/2017 by 4pm in Git by committing to your repository. Please ensure that you add the TA Git account to your repository.\n",
    "\n",
    "1. Write all code in the notebook.\n",
    "1. Write all text in the notebook. You can use MathJax to insert math or generic Markdown to insert figures (it's unlikely you'll need the latter). \n",
    "1. **Execute** the notebook and **save** the results.\n",
    "1. To be safe, print the notebook as PDF and add it to the repository, too. Your repository should contain two files: ``homework1.ipynb`` and ``homework1.pdf``. \n",
    "\n",
    "The TA will return the corrected and annotated homework back to you via Git (please give `rythei` access to your repository)."
   ]
  },
  {
   "cell_type": "code",
   "execution_count": 1,
   "metadata": {
    "ExecuteTime": {
     "end_time": "2019-01-22T19:57:47.188990Z",
     "start_time": "2019-01-22T19:57:46.107420Z"
    }
   },
   "outputs": [],
   "source": [
    "from mxnet import ndarray as nd\n",
    "import mxnet as mx"
   ]
  },
  {
   "cell_type": "markdown",
   "metadata": {},
   "source": [
    "## 1. Speedtest for vectorization\n",
    "\n",
    "Your goal is to measure the speed of linear algebra operations for different levels of vectorization. You need to use `wait_to_read()` on the output to ensure that the result is computed completely, since NDArray uses asynchronous computation. Please see http://beta.mxnet.io/api/ndarray/_autogen/mxnet.ndarray.NDArray.wait_to_read.html for details. \n",
    "\n",
    "1. Construct two matrices $A$ and $B$ with Gaussian random entries of size $4096 \\times 4096$. \n",
    "1. Compute $C = A B$ using matrix-matrix operations and report the time. \n",
    "1. Compute $C = A B$, treating $A$ as a matrix but computing the result for each column of $B$ one at a time. Report the time.\n",
    "1. Compute $C = A B$, treating $A$ and $B$ as collections of vectors. Report the time.\n",
    "1. Bonus question - what changes if you execute this on a GPU?"
   ]
  },
  {
   "cell_type": "code",
   "execution_count": 2,
   "metadata": {},
   "outputs": [
    {
     "name": "stdout",
     "output_type": "stream",
     "text": [
      "1.0074262619018555\n",
      "28.05392622947693\n",
      "The last one takes very long - Timeout\n"
     ]
    }
   ],
   "source": [
    "import time\n",
    "\n",
    "# 1\n",
    "A = nd.random.normal(loc=0, scale=1, shape=[4096, 4096])\n",
    "B = nd.random.normal(loc=0, scale=1, shape=[4096, 4096])\n",
    "\n",
    "# 2\n",
    "t = time.time()\n",
    "C = nd.dot(A, B)\n",
    "C.wait_to_read()\n",
    "print(time.time() - t)\n",
    "\n",
    "# 3\n",
    "t = time.time()\n",
    "columns = [nd.dot(A, B[:, i]).reshape(4096, 1) for i in range(4096)]\n",
    "C = nd.concat(*columns, dim=1)\n",
    "C.wait_to_read()\n",
    "print(time.time() - t)\n",
    "\n",
    "# # 4\n",
    "# t = time.time()\n",
    "# C = nd.empty(shape=[4096, 4096])\n",
    "# for i in range(4096):\n",
    "#     for j in range(4096):\n",
    "#         C[i, j] = nd.dot(A[i, :], B[:, j])\n",
    "# C.wait_to_read()\n",
    "# print(time.time() - t)\n",
    "print(\"The last one takes very long - Timeout\")"
   ]
  },
  {
   "cell_type": "markdown",
   "metadata": {},
   "source": [
    "## 2. Semidefinite Matrices\n",
    "\n",
    "Assume that $A \\in \\mathbb{R}^{m \\times n}$ is an arbitrary matrix and that $D \\in \\mathbb{R}^{n \\times n}$ is a diagonal matrix with nonnegative entries. \n",
    "\n",
    "1. Prove that $B = A D A^\\top$ is a positive semidefinite matrix. \n",
    "1. When would it be useful to work with $B$ and when is it better to use $A$ and $D$?"
   ]
  },
  {
   "cell_type": "markdown",
   "metadata": {},
   "source": [
    "1. Let $x$ be a m-dimensional vector, and let $C$ be a diagonal matrix containing the square roots of the diagonal entries in $D$ (so $C^2 = D$). Then $x^TBx = x^TADA^Tx = \\|CA^Tx\\|^2 >= 0$, and this completes the proof that B is positive semidefinite.\n",
    "\n",
    "2. It would be useful to work with A and D if you're doing computations that may require the square root of B or different powers of B (because then you can exponentiate D). Otherwise, just using B by itself would be faster."
   ]
  },
  {
   "cell_type": "markdown",
   "metadata": {},
   "source": [
    "## 3. MXNet on GPUs\n",
    "\n",
    "1. Install GPU drivers (if needed)\n",
    "1. Install MXNet on a GPU instance\n",
    "1. Display `!nvidia-smi`\n",
    "1. Create a $2 \\times 2$ matrix on the GPU and print it. See http://d2l.ai/chapter_deep-learning-computation/use-gpu.html for details."
   ]
  },
  {
   "cell_type": "code",
   "execution_count": 3,
   "metadata": {},
   "outputs": [
    {
     "name": "stdout",
     "output_type": "stream",
     "text": [
      "Tue Jan 29 00:41:08 2019       \r\n",
      "+-----------------------------------------------------------------------------+\r\n",
      "| NVIDIA-SMI 384.81                 Driver Version: 384.81                    |\r\n",
      "|-------------------------------+----------------------+----------------------+\r\n",
      "| GPU  Name        Persistence-M| Bus-Id        Disp.A | Volatile Uncorr. ECC |\r\n",
      "| Fan  Temp  Perf  Pwr:Usage/Cap|         Memory-Usage | GPU-Util  Compute M. |\r\n",
      "|===============================+======================+======================|\r\n",
      "|   0  Tesla V100-SXM2...  Off  | 00000000:00:1E.0 Off |                    0 |\r\n",
      "| N/A   42C    P0    38W / 300W |      0MiB / 16152MiB |      0%      Default |\r\n",
      "+-------------------------------+----------------------+----------------------+\r\n",
      "                                                                               \r\n",
      "+-----------------------------------------------------------------------------+\r\n",
      "| Processes:                                                       GPU Memory |\r\n",
      "|  GPU       PID   Type   Process name                             Usage      |\r\n",
      "|=============================================================================|\r\n",
      "|  No running processes found                                                 |\r\n",
      "+-----------------------------------------------------------------------------+\r\n"
     ]
    }
   ],
   "source": [
    "!nvidia-smi"
   ]
  },
  {
   "cell_type": "code",
   "execution_count": 4,
   "metadata": {},
   "outputs": [
    {
     "data": {
      "text/plain": [
       "\n",
       "[[1. 1.]\n",
       " [1. 1.]]\n",
       "<NDArray 2x2 @gpu(0)>"
      ]
     },
     "execution_count": 4,
     "metadata": {},
     "output_type": "execute_result"
    }
   ],
   "source": [
    "x = nd.ones((2, 2), ctx=mx.gpu())\n",
    "x"
   ]
  },
  {
   "cell_type": "markdown",
   "metadata": {},
   "source": [
    "## 4. NDArray and NumPy \n",
    "\n",
    "Your goal is to measure the speed penalty between MXNet Gluon and Python when converting data between both. We are going to do this as follows:\n",
    "\n",
    "1. Create two Gaussian random matrices $A, B$ of size $4096 \\times 4096$ in NDArray. \n",
    "1. Compute a vector $\\mathbf{c} \\in \\mathbb{R}^{4096}$ where $c_i = \\|A B_{i\\cdot}\\|^2$ where $\\mathbf{c}$ is a **NumPy** vector.\n",
    "\n",
    "To see the difference in speed due to Python perform the following two experiments and measure the time:\n",
    "\n",
    "1. Compute $\\|A B_{i\\cdot}\\|^2$ one at a time and assign its outcome to $\\mathbf{c}_i$ directly.\n",
    "1. Use an intermediate storage vector $\\mathbf{d}$ in NDArray for assignments and copy to NumPy at the end."
   ]
  },
  {
   "cell_type": "code",
   "execution_count": 5,
   "metadata": {},
   "outputs": [
    {
     "name": "stdout",
     "output_type": "stream",
     "text": [
      "29.546343564987183\n",
      "28.222331762313843\n"
     ]
    }
   ],
   "source": [
    "import numpy as np\n",
    "A = nd.random.normal(loc=0, scale=1, shape=[4096, 4096])\n",
    "B = nd.random.normal(loc=0, scale=1, shape=[4096, 4096])\n",
    "\n",
    "t = time.time()\n",
    "c = np.zeros(4096)\n",
    "for i in range(4096):\n",
    "    c[i] = nd.norm(nd.dot(A, B[i]), ord=2).asscalar()\n",
    "print(time.time() - t)\n",
    "    \n",
    "t = time.time()\n",
    "d = nd.zeros(4096)\n",
    "for i in range(4096):\n",
    "    d[i] = nd.norm(nd.dot(A, B[i]), ord=2)\n",
    "d = d.asnumpy()\n",
    "print(time.time() - t)"
   ]
  },
  {
   "cell_type": "markdown",
   "metadata": {},
   "source": [
    "## 5. Memory efficient computation\n",
    "\n",
    "We want to compute $C \\leftarrow A \\cdot B + C$, where $A, B$ and $C$ are all matrices. Implement this in the most memory efficient manner. Pay attention to the following two things:\n",
    "\n",
    "1. Do not allocate new memory for the new value of $C$.\n",
    "1. Do not allocate new memory for intermediate results if possible."
   ]
  },
  {
   "cell_type": "code",
   "execution_count": 6,
   "metadata": {},
   "outputs": [
    {
     "data": {
      "text/plain": [
       "\n",
       "[[ -89.2842      73.64483    -25.558414  ...   90.13895     95.803665\n",
       "  -162.3457   ]\n",
       " [ -37.078636    -6.3714905   11.097342  ...   44.199265   -45.428867\n",
       "    78.536705 ]\n",
       " [ 134.2446     214.59921     68.38664   ...  -66.71899    -20.114132\n",
       "    40.64216  ]\n",
       " ...\n",
       " [ -95.55035     41.435562   122.75974   ...   69.42801    -94.71486\n",
       "    46.208897 ]\n",
       " [-231.5051     -25.642136   -83.37668   ...  -16.456684  -135.8109\n",
       "   -83.9735   ]\n",
       " [  75.27684     -1.9213676   21.20346   ...   81.998985    -7.3830795\n",
       "   -84.509315 ]]\n",
       "<NDArray 4096x4096 @cpu(0)>"
      ]
     },
     "execution_count": 6,
     "metadata": {},
     "output_type": "execute_result"
    }
   ],
   "source": [
    "# Assuming C already exists from q1, gets overwritten here\n",
    "nd.elemwise_add(nd.dot(A, B), C, out=C)"
   ]
  },
  {
   "cell_type": "markdown",
   "metadata": {},
   "source": [
    "## 6. Broadcast Operations\n",
    "\n",
    "In order to perform polynomial fitting we want to compute a design matrix $A$ with \n",
    "\n",
    "$$A_{ij} = x_i^j$$\n",
    "\n",
    "Our goal is to implement this **without a single for loop** entirely using vectorization and broadcast. Here $1 \\leq j \\leq 20$ and $x = \\{-10, -9.9, \\ldots 10\\}$. Implement code that generates such a matrix."
   ]
  },
  {
   "cell_type": "code",
   "execution_count": 4,
   "metadata": {},
   "outputs": [
    {
     "data": {
      "text/plain": [
       "\n",
       "[[ -1.00000000e+01   1.00000000e+02  -1.00000000e+03 ...,   9.99999984e+17\n",
       "   -9.99999998e+18   1.00000002e+20]\n",
       " [ -9.89999962e+00   9.80099945e+01  -9.70298889e+02 ...,   8.34513176e+17\n",
       "   -8.26168034e+18   8.17906293e+19]\n",
       " [ -9.80000019e+00   9.60400009e+01  -9.41192078e+02 ...,   6.95135578e+17\n",
       "   -6.81232885e+18   6.67608243e+19]\n",
       " ..., \n",
       " [  9.80000114e+00   9.60400238e+01   9.41192322e+02 ...,   6.95136815e+17\n",
       "    6.81234150e+18   6.67609519e+19]\n",
       " [  9.89999962e+00   9.80099945e+01   9.70298889e+02 ...,   8.34513176e+17\n",
       "    8.26168034e+18   8.17906293e+19]\n",
       " [  1.00000000e+01   1.00000000e+02   1.00000000e+03 ...,   9.99999984e+17\n",
       "    9.99999998e+18   1.00000002e+20]]\n",
       "<NDArray 201x20 @cpu(0)>"
      ]
     },
     "execution_count": 4,
     "metadata": {},
     "output_type": "execute_result"
    }
   ],
   "source": [
    "x = nd.arange(-10, 10.1, 0.1).reshape(201, 1)\n",
    "js = nd.arange(1, 21)\n",
    "A = nd.power(x, js)\n",
    "A"
   ]
  }
 ],
 "metadata": {
  "kernelspec": {
   "display_name": "Python 3",
   "language": "python",
   "name": "python3"
  },
  "language_info": {
   "codemirror_mode": {
    "name": "ipython",
    "version": 3
   },
   "file_extension": ".py",
   "mimetype": "text/x-python",
   "name": "python",
   "nbconvert_exporter": "python",
   "pygments_lexer": "ipython3",
   "version": "3.6.8"
  }
 },
 "nbformat": 4,
 "nbformat_minor": 2
}
